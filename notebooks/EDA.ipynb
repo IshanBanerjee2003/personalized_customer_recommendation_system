{
 "cells": [
  {
   "cell_type": "markdown",
   "metadata": {},
   "source": [
    "# Exploratory Data Analysis for Personalized Customer Recommendation System"
   ]
  },
  {
   "cell_type": "code",
   "execution_count": 1,
   "metadata": {},
   "outputs": [],
   "source": [
    "# Importing necessary libraries\n",
    "import pandas as pd\n",
    "import numpy as np\n",
    "import matplotlib.pyplot as plt\n",
    "import seaborn as sns\n",
    "\n",
    "# Load the dataset\n",
    "data = pd.read_csv('../dataset/processed/user_product_interactions_processed.csv')\n",
    "\n",
    "# Display the first few rows of the dataset\n",
    "data.head()"
   ]
  },
  {
   "cell_type": "markdown",
   "metadata": {},
   "source": [
    "### 1. Basic Dataset Overview"
   ]
  },
  {
   "cell_type": "code",
   "execution_count": 2,
   "metadata": {},
   "outputs": [],
   "source": [
    "# Basic information about the dataset\n",
    "data.info()\n",
    "\n",
    "# Summary statistics\n",
    "data.describe()\n",
    "\n",
    "# Count of interactions\n",
    "interaction_count = data['interaction'].value_counts()\n",
    "print(interaction_count)\n",
    "\n",
    "# Check for missing values\n",
    "data.isnull().sum()"
   ]
  },
  {
   "cell_type": "markdown",
   "metadata": {},
   "source": [
    "### 2. Visualizing Interaction Distribution"
   ]
  },
  {
   "cell_type": "code",
   "execution_count": 3,
   "metadata": {},
   "outputs": [],
   "source": [
    "# Plot the distribution of interactions (0 = No interaction, 1 = Interaction)\n",
    "plt.figure(figsize=(8, 6))\n",
    "sns.countplot(x='interaction', data=data, palette='viridis')\n",
    "plt.title('Distribution of Interactions (User-Product)', fontsize=14)\n",
    "plt.xlabel('Interaction')\n",
    "plt.ylabel('Count')\n",
    "plt.show()"
   ]
  },
  {
   "cell_type": "markdown",
   "metadata": {},
   "source": [
    "### 3. User Activity Distribution"
   ]
  },
  {
   "cell_type": "code",
   "execution_count": 4,
   "metadata": {},
   "outputs": [],
   "source": [
    "# Count the number of interactions per user\n",
    "user_interaction_count = data.groupby('user_id')['interaction'].sum()\n",
    "\n",
    "# Plot the user interaction distribution\n",
    "plt.figure(figsize=(10, 6))\n",
    "sns.histplot(user_interaction_count, bins=50, kde=True, color='blue')\n",
    "plt.title('Distribution of User Activity (Number of Interactions)', fontsize=14)\n",
    "plt.xlabel('Number of Interactions')\n",
    "plt.ylabel('Number of Users')\n",
    "plt.show()"
   ]
  },
  {
   "cell_type": "markdown",
   "metadata": {},
   "source": [
    "### 4. Top Products by Interaction Count"
   ]
  },
  {
   "cell_type": "code",
   "execution_count": 5,
   "metadata": {},
   "outputs": [],
   "source": [
    "# Count the number of interactions per product\n",
    "product_interaction_count = data.groupby('product_id')['interaction'].sum().sort_values(ascending=False)\n",
    "\n",
    "# Plot the top 10 products by interaction count\n",
    "top_10_products = product_interaction_count.head(10)\n",
    "plt.figure(figsize=(10, 6))\n",
    "sns.barplot(x=top_10_products.index, y=top_10_products.values, palette='magma')\n",
    "plt.title('Top 10 Products by Interaction Count', fontsize=14)\n",
    "plt.xlabel('Product ID')\n",
    "plt.ylabel('Number of Interactions')\n",
    "plt.show()"
   ]
  },
  {
   "cell_type": "markdown",
   "metadata": {},
   "source": [
    "### 5. Heatmap of User-Product Interaction Matrix"
   ]
  },
  {
   "cell_type": "code",
   "execution_count": 6,
   "metadata": {},
   "outputs": [],
   "source": [
    "# Create the user-product interaction matrix\n",
    "interaction_matrix = data.pivot(index='user_id', columns='product_id', values='interaction').fillna(0)\n",
    "\n",
    "# Plot the heatmap for the first 100 users and 50 products\n",
    "plt.figure(figsize=(12, 8))\n",
    "sns.heatmap(interaction_matrix.iloc[:100, :50], cmap='coolwarm', cbar=True)\n",
    "plt.title('User-Product Interaction Matrix (First 100 Users and 50 Products)', fontsize=14)\n",
    "plt.show()"
   ]
  },
  {
   "cell_type": "markdown",
   "metadata": {},
   "source": [
    "### 6. Correlation Between Products"
   ]
  },
  {
   "cell_type": "code",
   "execution_count": 7,
   "metadata": {},
   "outputs": [],
   "source": [
    "# Calculate the correlation between different products based on user interactions\n",
    "product_correlation = interaction_matrix.corr()\n",
    "\n",
    "# Plot the heatmap for product correlation\n",
    "plt.figure(figsize=(12, 10))\n",
    "sns.heatmap(product_correlation, cmap='coolwarm', cbar=True)\n",
    "plt.title('Correlation Between Products Based on User Interactions', fontsize=14)\n",
    "plt.show()"
   ]
  },
  {
   "cell_type": "markdown",
   "metadata": {},
   "source": [
    "### 7. User Interaction Sparsity"
   ]
  },
  {
   "cell_type": "code",
   "execution_count": 8,
   "metadata": {},
   "outputs": [],
   "source": [
    "# Calculate sparsity of the interaction matrix\n",
    "total_elements = np.prod(interaction_matrix.shape)\n",
    "non_zero_elements = np.count_nonzero(interaction_matrix)\n",
    "sparsity = 1 - (non_zero_elements / total_elements)\n",
    "print(f\"Sparsity of the interaction matrix: {sparsity:.4f}\")\n",
    "\n",
    "# Plot sparsity\n",
    "plt.figure(figsize=(6, 6))\n",
    "plt.pie([sparsity, 1 - sparsity], labels=['Sparsity', 'Interactions'], autopct='%1.1f%%', startangle=140, colors=['#FF9999', '#66B2FF'])\n",
    "plt.title('Sparsity of User-Product Interaction Matrix', fontsize=14)\n",
    "plt.show()"
   ]
  },
  {
   "cell_type": "markdown",
   "metadata": {},
   "source": [
    "### 8. Product Popularity Distribution"
   ]
  },
  {
   "cell_type": "code",
   "execution_count": 9,
   "metadata": {},
   "outputs": [],
   "source": [
    "# Plot the distribution of product popularity (total interactions per product)\n",
    "plt.figure(figsize=(10, 6))\n",
    "sns.histplot(product_interaction_count, bins=50, kde=True, color='purple')\n",
    "plt.title('Distribution of Product Popularity (Number of Interactions)', fontsize=14)\n",
    "plt.xlabel('Number of Interactions per Product')\n",
    "plt.ylabel('Count')\n",
    "plt.show()"
   ]
  },
  {
   "cell_type": "markdown",
   "metadata": {},
   "source": [
    "### 9. Conclusion and Next Steps"
   ]
  },
  {
   "cell_type": "markdown",
   "metadata": {},
   "source": [
    "- The interaction data is highly sparse, meaning that most users have interacted with only a few products.\n",
    "- The distribution of user activity shows that a small number of users are highly active, while the majority have limited interactions.\n",
    "- Product popularity is skewed, with a few products receiving significantly more interactions than others.\n",
    "- Correlation analysis shows potential patterns in how products are related based on user preferences.\n",
    "\n",
    "### Next Steps:\n",
    "1. Leverage collaborative filtering techniques to build a personalized recommendation model.\n",
    "2. Explore content-based filtering by incorporating metadata such as product categories and descriptions.\n",
    "3. Test model performance using various evaluation metrics such as RMSE and Precision@K."
   ]
  }
 ],
 "metadata": {
  "kernelspec": {
   "display_name": "Python 3",
   "language": "python",
   "name": "python3"
  },
  "language_info": {
   "codemirror_mode": {
    "name": "ipython",
    "version": 3
   },
   "file_extension": ".py",
   "mimetype": "text/x-python",
   "name": "python",
   "nbconvert_exporter": "python",
   "version": "3.8.5"
  }
 },
 "nbformat": 4,
 "nbformat_minor": 4
}
